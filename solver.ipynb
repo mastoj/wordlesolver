{
 "cells": [
  {
   "cell_type": "code",
   "execution_count": null,
   "metadata": {
    "dotnet_interactive": {
     "language": "fsharp"
    }
   },
   "outputs": [],
   "source": [
    "open System.Net.Http\n",
    "open System.IO\n",
    "open System.Net.Http.Headers\n",
    "open System.Net\n",
    "\n",
    "let getWebString (url: string) =\n",
    "    async {\n",
    "        use client = new HttpClient(\n",
    "            new HttpClientHandler(\n",
    "                AutomaticDecompression = DecompressionMethods.All\n",
    "            ))\n",
    "        client.DefaultRequestHeaders.Accept.Add(new MediaTypeWithQualityHeaderValue(\"text/html\"))\n",
    "\n",
    "        let! response = \n",
    "            client.GetAsync(url)\n",
    "            |> Async.AwaitTask\n",
    "        let! content = \n",
    "            response.Content.ReadAsStringAsync()\n",
    "            |> Async.AwaitTask\n",
    "        return content\n",
    "    }\n",
    "\n",
    "open System.Text.RegularExpressions\n",
    "let extractWords (page: string) =\n",
    "    let rex = new Regex(\"<span class=mot[2]?>(.*?)</span>\")\n",
    "    let matches = rex.Matches(page)\n",
    "    let strings =\n",
    "        matches\n",
    "        |> Seq.map (fun mc -> mc.Groups[1].Value)\n",
    "        |> List.ofSeq\n",
    "    (String.concat \"\" strings).Split(\" \") |> List.ofArray\n",
    "\n",
    "let content = \n",
    "    getWebString \"https://www.bestwordlist.com/5letterwords.htm\"\n",
    "//    getWebString \"https://www.vg.no\"\n",
    "    |> Async.RunSynchronously\n",
    "\n",
    "let getWordsForSite url = \n",
    "    async {\n",
    "        let! content = getWebString url\n",
    "        return extractWords content\n",
    "    }\n",
    "\n",
    "let urls = \n",
    "    [for i in 1..15 do if i = 1 then yield \"\" else yield sprintf \"page%i\" i]\n",
    "    |> List.map (fun i -> sprintf \"https://www.bestwordlist.com/5letterwords%s.htm\" i)\n",
    "\n",
    "let words =\n",
    "    urls\n",
    "    |> List.map (fun url -> getWordsForSite url)\n",
    "    |> List.map (fun task -> Async.RunSynchronously task)\n",
    "    |> List.ofSeq\n",
    "    |> List.concat\n",
    "    |> List.filter (fun w -> w.Length = 5)\n",
    "    |> List.distinct\n"
   ]
  },
  {
   "cell_type": "code",
   "execution_count": null,
   "metadata": {
    "dotnet_interactive": {
     "language": "fsharp"
    }
   },
   "outputs": [
    {
     "name": "stdout",
     "output_type": "stream",
     "text": [
      "==> Filtered candidates: [\"ABBEY\"]\n"
     ]
    }
   ],
   "source": [
    "// TRAMS\n",
    "let fixedLetters = [0, 'A'; 3, 'E'] |> Map.ofList\n",
    "//let fixedLetters = [2, 'A'] |> Map.ofList\n",
    "\n",
    "let excludedCharacters = \"TRMSLCIDWOKNX\"\n",
    "let includeLetters = [('A', [2]);'E',[4]] |> List.map (fun (x,y) -> x,(y |> Set.ofList))\n",
    "\n",
    "let filterCandidates (wordList: string list) (fixedLetters: Map<int, char>) (excludedCharacters: string) (includeLetters: (char*(Set<int>)) list) =\n",
    "    let excludedCharactersArr = excludedCharacters.ToCharArray()\n",
    "    let result = \n",
    "        wordList\n",
    "        |> List.filter (fun w -> \n",
    "            let chars = w.ToCharArray()\n",
    "            let letterComparison = \n",
    "                [ for i in 0 .. 4 do\n",
    "                    let currentChar = chars[i]\n",
    "                    if excludedCharactersArr |> Array.contains currentChar then yield false\n",
    "                    else if fixedLetters |> Map.containsKey i && fixedLetters[i] <> currentChar then yield false\n",
    "                    else yield true\n",
    "                ] |> List.contains false |> not\n",
    "            let wordIndicesLookup = chars |> Array.mapi (fun x c -> c,x) |> Array.groupBy fst |> Map.ofArray |> Map.map (fun _ grp -> grp |> Array.map snd |> Set.ofArray)\n",
    "            let includeComparison =\n",
    "                includeLetters\n",
    "                |> List.map (fun (letter, indices) ->\n",
    "                    let letterIndices = wordIndicesLookup |> Map.tryFind letter |> Option.defaultValue Set.empty\n",
    "                    let diff = Set.difference letterIndices indices\n",
    "                    diff |> Set.isEmpty |> not\n",
    "                ) |> List.contains false |> not\n",
    "            letterComparison && includeComparison\n",
    "        )\n",
    "    result\n",
    "\n",
    "try\n",
    "    filterCandidates words fixedLetters excludedCharacters includeLetters\n",
    "    |> printfn \"==> Filtered candidates: %A\"\n",
    "with\n",
    "| e -> printfn \"==> Error: %A\" e "
   ]
  }
 ],
 "metadata": {
  "kernelspec": {
   "display_name": ".NET (F#)",
   "language": "F#",
   "name": ".net-fsharp"
  },
  "language_info": {
   "name": "F#"
  }
 },
 "nbformat": 4,
 "nbformat_minor": 2
}
